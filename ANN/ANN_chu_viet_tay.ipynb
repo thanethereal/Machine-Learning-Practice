{
 "cells": [
  {
   "cell_type": "markdown",
   "metadata": {},
   "source": [
    "Xây dựng mạng ANN phân lớp chữ cái viết tay. Khai báo các gói numpy, mnist, keras\n",
    "https://victorzhou.com/blog/keras-neural-network-tutorial/"
   ]
  },
  {
   "cell_type": "code",
   "execution_count": 2,
   "metadata": {},
   "outputs": [],
   "source": [
    "import numpy as np\n",
    "import matplotlib.pyplot as plt\n",
    "from keras.models import Sequential\n",
    "from keras.layers import Dense\n",
    "from tensorflow.keras.utils import to_categorical\n",
    "from keras.datasets import mnist"
   ]
  },
  {
   "cell_type": "markdown",
   "metadata": {},
   "source": [
    "Lấy dữ liệu từ mnist. Có 2 tập train và test\n"
   ]
  },
  {
   "cell_type": "code",
   "execution_count": 3,
   "metadata": {},
   "outputs": [],
   "source": [
    "#@tf.autograph.experimental.do_not_convert\n",
    "#import warnings\n",
    "#warnings.filterwarnings('ignore')"
   ]
  },
  {
   "cell_type": "code",
   "execution_count": 4,
   "metadata": {},
   "outputs": [],
   "source": [
    "(train_images, train_labels), (test_images, test_labels) = mnist.load_data()"
   ]
  },
  {
   "cell_type": "code",
   "execution_count": 5,
   "metadata": {},
   "outputs": [
    {
     "name": "stdout",
     "output_type": "stream",
     "text": [
      "(60000, 28, 28)\n",
      "(10000, 28, 28)\n"
     ]
    }
   ],
   "source": [
    "print(train_images.shape)\n",
    "print(test_images.shape)"
   ]
  },
  {
   "cell_type": "markdown",
   "metadata": {},
   "source": [
    "Có 60000 ảnh train và 10000 ảnh để test"
   ]
  },
  {
   "cell_type": "code",
   "execution_count": 6,
   "metadata": {},
   "outputs": [
    {
     "name": "stdout",
     "output_type": "stream",
     "text": [
      "6\n"
     ]
    }
   ],
   "source": [
    "print(test_labels[100])"
   ]
  },
  {
   "cell_type": "code",
   "execution_count": 7,
   "metadata": {},
   "outputs": [
    {
     "data": {
      "text/plain": [
       "<matplotlib.image.AxesImage at 0x1a40a781d60>"
      ]
     },
     "execution_count": 7,
     "metadata": {},
     "output_type": "execute_result"
    },
    {
     "data": {
      "image/png": "[encoded data removed]",
      "text/plain": [
       "<Figure size 432x288 with 1 Axes>"
      ]
     },
     "metadata": {
      "needs_background": "light"
     },
     "output_type": "display_data"
    }
   ],
   "source": [
    "plt.imshow(test_images[100].reshape(28,28))"
   ]
  },
  {
   "cell_type": "code",
   "execution_count": 8,
   "metadata": {},
   "outputs": [
    {
     "data": {
      "text/plain": [
       "array([[  0,   0,   0,   0,   0,   0,   0,   0,   0,   0,   0,   0,   0,\n",
       "          0,   0,   0,   0,   0,   0,   0,   0,   0,   0,   0,   0,   0,\n",
       "          0,   0],\n",
       "       [  0,   0,   0,   0,   0,   0,   0,   0,   0,   0,   0,   0,   0,\n",
       "          0,   0,   0,   0,   0,   0,   0,   0,   0,   0,   0,   0,   0,\n",
       "          0,   0],\n",
       "       [  0,   0,   0,   0,   0,   0,   0,   0,   0,   0,   0,   0, 127,\n",
       "        221,  52,   0,   0,   0,   0,   0,   0,   0,   0,   0,   0,   0,\n",
       "          0,   0],\n",
       "       [  0,   0,   0,   0,   0,   0,   0,   0,   0,   0,   0,  64, 229,\n",
       "        219, 104,   0,   0,   0,   0,   0,   0,   0,   0,   0,   0,   0,\n",
       "          0,   0],\n",
       "       [  0,   0,   0,   0,   0,   0,   0,   0,   0,   0,  13, 235, 140,\n",
       "          4,   3,   0,   0,   0,   0,   0,   0,   0,   0,   0,   0,   0,\n",
       "          0,   0],\n",
       "       [  0,   0,   0,   0,   0,   0,   0,   0,   0,   0, 118, 227,  25,\n",
       "          0,   0,   0,   0,   0,   0,   0,   0,   0,   0,   0,   0,   0,\n",
       "          0,   0],\n",
       "       [  0,   0,   0,   0,   0,   0,   0,   0,   0,   0, 236, 133,   0,\n",
       "          0,   0,   0,   0,   0,   0,   0,   0,   0,   0,   0,   0,   0,\n",
       "          0,   0],\n",
       "       [  0,   0,   0,   0,   0,   0,   0,   0,   0,  13, 243,  93,   0,\n",
       "          0,   0,   0,   0,   0,   0,   0,   0,   0,   0,   0,   0,   0,\n",
       "          0,   0],\n",
       "       [  0,   0,   0,   0,   0,   0,   0,   0,   0,  85, 243,  21,   0,\n",
       "          0,   0,   0,   0,   0,   0,   0,   0,   0,   0,   0,   0,   0,\n",
       "          0,   0],\n",
       "       [  0,   0,   0,   0,   0,   0,   0,   0,   0, 189, 236,   0,   0,\n",
       "          0,   0,   0,   0,   0,   0,   0,   0,   0,   0,   0,   0,   0,\n",
       "          0,   0],\n",
       "       [  0,   0,   0,   0,   0,   0,   0,   0,   1, 208, 169,   0,   0,\n",
       "          0,   0,   0,   0,  64, 151, 151, 135,  74,   1,   0,   0,   0,\n",
       "          0,   0],\n",
       "       [  0,   0,   0,   0,   0,   0,   0,   0,  26, 254,  89,   0,   0,\n",
       "          0,   0,   6, 142, 254, 224, 211, 181, 241,  70,   0,   0,   0,\n",
       "          0,   0],\n",
       "       [  0,   0,   0,   0,   0,   0,   0,   0,  26, 254,  68,   0,   0,\n",
       "          0,   2, 161, 254, 104,   7,   0,   0,  80, 223,  15,   0,   0,\n",
       "          0,   0],\n",
       "       [  0,   0,   0,   0,   0,   0,   0,   0,  57, 254,  15,   0,   0,\n",
       "          0, 150, 231,  68,   1,   0,   0,   0,   9, 231,  26,   0,   0,\n",
       "          0,   0],\n",
       "       [  0,   0,   0,   0,   0,   0,   0,   0,  79, 254,  15,   0,   0,\n",
       "         24, 228,  66,   0,   0,   0,   0,   0,   0, 196,  87,   0,   0,\n",
       "          0,   0],\n",
       "       [  0,   0,   0,   0,   0,   0,   0,   0,  73, 254,  43,   0,   0,\n",
       "        116, 251,   7,   0,   0,   0,   0,   0,   0, 196, 100,   0,   0,\n",
       "          0,   0],\n",
       "       [  0,   0,   0,   0,   0,   0,   0,   0,  13, 230, 147,   0,   0,\n",
       "         60, 255,  70,   0,   0,   0,   0,   0,   4, 209,  84,   0,   0,\n",
       "          0,   0],\n",
       "       [  0,   0,   0,   0,   0,   0,   0,   0,   0, 203, 232,   4,   0,\n",
       "         42, 253,  74,   0,   0,   0,   0,   0, 114, 233,  17,   0,   0,\n",
       "          0,   0],\n",
       "       [  0,   0,   0,   0,   0,   0,   0,   0,   0,  87, 252, 147,   0,\n",
       "          0, 154, 229, 132, 123, 123,  63,  93, 248,  65,   0,   0,   0,\n",
       "          0,   0],\n",
       "       [  0,   0,   0,   0,   0,   0,   0,   0,   0,   0, 169, 249, 137,\n",
       "         23,   8,  80, 100, 101, 107, 145, 192,  51,   0,   0,   0,   0,\n",
       "          0,   0],\n",
       "       [  0,   0,   0,   0,   0,   0,   0,   0,   0,   0,   5, 139, 251,\n",
       "        224, 144, 115, 115, 195, 254, 187,  48,   0,   0,   0,   0,   0,\n",
       "          0,   0],\n",
       "       [  0,   0,   0,   0,   0,   0,   0,   0,   0,   0,   0,   0,  55,\n",
       "        141, 203, 244, 180, 129,  67,   2,   0,   0,   0,   0,   0,   0,\n",
       "          0,   0],\n",
       "       [  0,   0,   0,   0,   0,   0,   0,   0,   0,   0,   0,   0,   0,\n",
       "          0,   0,   0,   0,   0,   0,   0,   0,   0,   0,   0,   0,   0,\n",
       "          0,   0],\n",
       "       [  0,   0,   0,   0,   0,   0,   0,   0,   0,   0,   0,   0,   0,\n",
       "          0,   0,   0,   0,   0,   0,   0,   0,   0,   0,   0,   0,   0,\n",
       "          0,   0],\n",
       "       [  0,   0,   0,   0,   0,   0,   0,   0,   0,   0,   0,   0,   0,\n",
       "          0,   0,   0,   0,   0,   0,   0,   0,   0,   0,   0,   0,   0,\n",
       "          0,   0],\n",
       "       [  0,   0,   0,   0,   0,   0,   0,   0,   0,   0,   0,   0,   0,\n",
       "          0,   0,   0,   0,   0,   0,   0,   0,   0,   0,   0,   0,   0,\n",
       "          0,   0],\n",
       "       [  0,   0,   0,   0,   0,   0,   0,   0,   0,   0,   0,   0,   0,\n",
       "          0,   0,   0,   0,   0,   0,   0,   0,   0,   0,   0,   0,   0,\n",
       "          0,   0],\n",
       "       [  0,   0,   0,   0,   0,   0,   0,   0,   0,   0,   0,   0,   0,\n",
       "          0,   0,   0,   0,   0,   0,   0,   0,   0,   0,   0,   0,   0,\n",
       "          0,   0]], dtype=uint8)"
      ]
     },
     "execution_count": 8,
     "metadata": {},
     "output_type": "execute_result"
    }
   ],
   "source": [
    "test_images[100]"
   ]
  },
  {
   "cell_type": "code",
   "execution_count": 9,
   "metadata": {},
   "outputs": [],
   "source": [
    "# Normalize the images.\n",
    "train_images = (train_images / 255)\n",
    "test_images = (test_images / 255)\n",
    "\n",
    "# Flatten the images.\n",
    "train_images = train_images.reshape((-1, 784))\n",
    "test_images = test_images.reshape((-1, 784))\n"
   ]
  },
  {
   "cell_type": "markdown",
   "metadata": {},
   "source": [
    "Mạng có 1 lớp vào 784 nút, 2 lớp ẩn mỗi lớp 64 nút, 1 lớp ra 10 nút. Các hàm kích hoạt là relu và softmax"
   ]
  },
  {
   "cell_type": "code",
   "execution_count": 10,
   "metadata": {},
   "outputs": [],
   "source": [
    "# Build the model.\n",
    "model = Sequential([\n",
    "  Dense(64, activation='relu', input_shape=(784,)),\n",
    "  Dense(64, activation='relu'),\n",
    "  Dense(10, activation='softmax'),\n",
    "])\n"
   ]
  },
  {
   "cell_type": "code",
   "execution_count": 11,
   "metadata": {},
   "outputs": [
    {
     "name": "stdout",
     "output_type": "stream",
     "text": [
      "Model: \"sequential\"\n",
      "_________________________________________________________________\n",
      "Layer (type)                 Output Shape              Param #   \n",
      "=================================================================\n",
      "dense (Dense)                (None, 64)                50240     \n",
      "_________________________________________________________________\n",
      "dense_1 (Dense)              (None, 64)                4160      \n",
      "_________________________________________________________________\n",
      "dense_2 (Dense)              (None, 10)                650       \n",
      "=================================================================\n",
      "Total params: 55,050\n",
      "Trainable params: 55,050\n",
      "Non-trainable params: 0\n",
      "_________________________________________________________________\n"
     ]
    }
   ],
   "source": [
    "model.summary()"
   ]
  },
  {
   "cell_type": "code",
   "execution_count": 12,
   "metadata": {},
   "outputs": [],
   "source": [
    "# Compile the model.\n",
    "model.compile(\n",
    "  optimizer='adam',\n",
    "  loss='categorical_crossentropy',\n",
    "  metrics=['accuracy'],\n",
    ")"
   ]
  },
  {
   "cell_type": "markdown",
   "metadata": {},
   "source": [
    "Huấn luyện mạng "
   ]
  },
  {
   "cell_type": "code",
   "execution_count": 13,
   "metadata": {},
   "outputs": [
    {
     "name": "stdout",
     "output_type": "stream",
     "text": [
      "Epoch 1/10\n",
      "1875/1875 [==============================] - 3s 2ms/step - loss: 0.2721 - accuracy: 0.9209\n",
      "Epoch 2/10\n",
      "1875/1875 [==============================] - 3s 1ms/step - loss: 0.1235 - accuracy: 0.9626\n",
      "Epoch 3/10\n",
      "1875/1875 [==============================] - 3s 2ms/step - loss: 0.0907 - accuracy: 0.9729\n",
      "Epoch 4/10\n",
      "1875/1875 [==============================] - 3s 2ms/step - loss: 0.0715 - accuracy: 0.9779\n",
      "Epoch 5/10\n",
      "1875/1875 [==============================] - 3s 2ms/step - loss: 0.0579 - accuracy: 0.9819\n",
      "Epoch 6/10\n",
      "1875/1875 [==============================] - 3s 2ms/step - loss: 0.0492 - accuracy: 0.9846\n",
      "Epoch 7/10\n",
      "1875/1875 [==============================] - 3s 2ms/step - loss: 0.0421 - accuracy: 0.9866\n",
      "Epoch 8/10\n",
      "1875/1875 [==============================] - 3s 2ms/step - loss: 0.0347 - accuracy: 0.9886\n",
      "Epoch 9/10\n",
      "1875/1875 [==============================] - 3s 2ms/step - loss: 0.0318 - accuracy: 0.9898\n",
      "Epoch 10/10\n",
      "1875/1875 [==============================] - 4s 2ms/step - loss: 0.0277 - accuracy: 0.9909\n"
     ]
    }
   ],
   "source": [
    "history=model.fit(\n",
    "  train_images,\n",
    "  to_categorical(train_labels),\n",
    "  epochs=10,\n",
    "  batch_size=32,\n",
    ")"
   ]
  },
  {
   "cell_type": "code",
   "execution_count": 14,
   "metadata": {},
   "outputs": [
    {
     "name": "stdout",
     "output_type": "stream",
     "text": [
      "dict_keys(['loss', 'accuracy'])\n"
     ]
    }
   ],
   "source": [
    "print(history.history.keys())"
   ]
  },
  {
   "cell_type": "code",
   "execution_count": 15,
   "metadata": {},
   "outputs": [
    {
     "data": {
      "image/png": "[encoded data removed]",
      "text/plain": [
       "<Figure size 432x288 with 1 Axes>"
      ]
     },
     "metadata": {
      "needs_background": "light"
     },
     "output_type": "display_data"
    }
   ],
   "source": [
    "plt.plot(history.history['accuracy'])\n",
    "#plt.plot(history.history['val_accuracy'])\n",
    "plt.title('model accuracy')\n",
    "plt.ylabel('accuracy')\n",
    "plt.xlabel('epoch')\n",
    "plt.legend(['train', 'test'], loc='upper left')\n",
    "plt.show()"
   ]
  },
  {
   "cell_type": "code",
   "execution_count": 16,
   "metadata": {},
   "outputs": [
    {
     "data": {
      "image/png": "[encoded data removed]",
      "text/plain": [
       "<Figure size 432x288 with 1 Axes>"
      ]
     },
     "metadata": {
      "needs_background": "light"
     },
     "output_type": "display_data"
    }
   ],
   "source": [
    "# summarize history for loss\n",
    "plt.plot(history.history['loss'])\n",
    "#plt.plot(history.history['val_loss'])\n",
    "plt.title('model loss')\n",
    "plt.ylabel('loss')\n",
    "plt.xlabel('epoch')\n",
    "plt.legend(['train', 'test'], loc='upper left')\n",
    "plt.show()"
   ]
  },
  {
   "cell_type": "code",
   "execution_count": 17,
   "metadata": {},
   "outputs": [
    {
     "name": "stdout",
     "output_type": "stream",
     "text": [
      "313/313 [==============================] - 1s 1ms/step - loss: 0.1095 - accuracy: 0.9712\n"
     ]
    },
    {
     "data": {
      "text/plain": [
       "[0.1095476821064949, 0.9711999893188477]"
      ]
     },
     "execution_count": 17,
     "metadata": {},
     "output_type": "execute_result"
    }
   ],
   "source": [
    "model.evaluate(\n",
    "  test_images,\n",
    "  to_categorical(test_labels)\n",
    ")"
   ]
  },
  {
   "cell_type": "code",
   "execution_count": 18,
   "metadata": {},
   "outputs": [],
   "source": [
    "import keras\n",
    "model.save('model.h5')"
   ]
  },
  {
   "cell_type": "code",
   "execution_count": 19,
   "metadata": {},
   "outputs": [
    {
     "name": "stdout",
     "output_type": "stream",
     "text": [
      "7\n"
     ]
    }
   ],
   "source": [
    "print(test_labels[0])"
   ]
  },
  {
   "cell_type": "code",
   "execution_count": 20,
   "metadata": {},
   "outputs": [
    {
     "data": {
      "text/plain": [
       "array([[5.93833142e-13, 1.99954357e-07, 6.15869021e-06, 2.21169175e-05,\n",
       "        8.64717965e-13, 4.16609691e-10, 1.16567372e-15, 9.99971271e-01,\n",
       "        2.52079180e-09, 1.67883158e-07],\n",
       "       [2.91995296e-15, 2.34144615e-08, 1.00000000e+00, 7.42087850e-11,\n",
       "        3.63221243e-20, 1.98676488e-16, 6.53852578e-16, 2.08983786e-09,\n",
       "        5.52205613e-14, 3.09803981e-19],\n",
       "       [2.33727260e-08, 9.99869585e-01, 3.39936287e-06, 6.22642604e-09,\n",
       "        7.79352922e-05, 5.36892797e-09, 2.46465538e-06, 7.16469401e-07,\n",
       "        4.56978887e-05, 2.22258350e-07],\n",
       "       [9.99989629e-01, 4.14578337e-11, 7.64907639e-08, 2.60361883e-08,\n",
       "        2.40518028e-09, 4.57383805e-07, 3.13519558e-06, 6.64085292e-07,\n",
       "        4.22888071e-08, 5.89631873e-06],\n",
       "       [1.48191290e-08, 1.16833044e-05, 1.60055524e-08, 1.86094499e-12,\n",
       "        9.98738706e-01, 3.39216299e-09, 2.39894604e-07, 9.05874344e-07,\n",
       "        1.26582293e-07, 1.24830601e-03],\n",
       "       [1.00060304e-09, 9.99953151e-01, 1.69706897e-08, 1.23280844e-10,\n",
       "        4.64687109e-05, 1.36226898e-11, 2.08011652e-09, 1.35317308e-07,\n",
       "        8.22360420e-08, 1.32497576e-07],\n",
       "       [1.96800231e-13, 3.53824998e-06, 2.58185357e-12, 8.76611783e-10,\n",
       "        9.58007753e-01, 1.01232774e-06, 2.68538039e-11, 8.84834662e-06,\n",
       "        4.77385311e-06, 4.19740900e-02],\n",
       "       [1.04074246e-07, 6.46764309e-11, 1.60997077e-10, 5.80196740e-07,\n",
       "        1.04454002e-05, 1.63722419e-07, 1.11694612e-10, 9.25756254e-08,\n",
       "        1.83310309e-08, 9.99988556e-01],\n",
       "       [4.90040205e-14, 2.68035212e-11, 4.17551382e-10, 8.02632683e-11,\n",
       "        2.16351626e-09, 9.88684714e-01, 1.12977363e-02, 4.37759889e-16,\n",
       "        1.11532836e-05, 6.39140444e-06],\n",
       "       [1.53706675e-15, 3.34258906e-13, 3.79041182e-16, 1.89227160e-13,\n",
       "        4.48499602e-04, 2.90935023e-15, 6.14496066e-17, 1.14311822e-08,\n",
       "        6.45479115e-10, 9.99551475e-01]], dtype=float32)"
      ]
     },
     "execution_count": 20,
     "metadata": {},
     "output_type": "execute_result"
    }
   ],
   "source": [
    "kq = model.predict(test_images[:10])\n",
    "kq"
   ]
  },
  {
   "cell_type": "code",
   "execution_count": 21,
   "metadata": {},
   "outputs": [
    {
     "name": "stdout",
     "output_type": "stream",
     "text": [
      "[7 2 1 0 4 1 4 9 5 9]\n",
      "[7 2 1 0 4 1 4 9 5 9]\n"
     ]
    }
   ],
   "source": [
    "# Predict on the first 5 test images.\n",
    "predictions = model.predict(test_images[:10])\n",
    "\n",
    "# Print our model's predictions.\n",
    "print(np.argmax(predictions, axis=1)) # [7, 2, 1, 0, 4]\n",
    "\n",
    "# Check our predictions against the ground truths.\n",
    "print(test_labels[:10]) # [7, 2, 1, 0, 4]"
   ]
  },
  {
   "cell_type": "markdown",
   "metadata": {},
   "source": [
    "Thử lấy model đã lưu trong model.h5 - không phải đào tạo lại"
   ]
  },
  {
   "cell_type": "code",
   "execution_count": 22,
   "metadata": {},
   "outputs": [
    {
     "data": {
      "text/plain": [
       "array([[5.93833142e-13, 1.99954357e-07, 6.15869021e-06, 2.21169175e-05,\n",
       "        8.64717965e-13, 4.16609691e-10, 1.16567372e-15, 9.99971271e-01,\n",
       "        2.52079180e-09, 1.67883158e-07],\n",
       "       [2.91995296e-15, 2.34144615e-08, 1.00000000e+00, 7.42087850e-11,\n",
       "        3.63221243e-20, 1.98676488e-16, 6.53852578e-16, 2.08983786e-09,\n",
       "        5.52205613e-14, 3.09803981e-19],\n",
       "       [2.33727260e-08, 9.99869585e-01, 3.39936287e-06, 6.22642604e-09,\n",
       "        7.79352922e-05, 5.36892797e-09, 2.46465538e-06, 7.16469401e-07,\n",
       "        4.56978887e-05, 2.22258350e-07],\n",
       "       [9.99989629e-01, 4.14578337e-11, 7.64907639e-08, 2.60361883e-08,\n",
       "        2.40518028e-09, 4.57383805e-07, 3.13519558e-06, 6.64085292e-07,\n",
       "        4.22888071e-08, 5.89631873e-06],\n",
       "       [1.48191290e-08, 1.16833044e-05, 1.60055524e-08, 1.86094499e-12,\n",
       "        9.98738706e-01, 3.39216299e-09, 2.39894604e-07, 9.05874344e-07,\n",
       "        1.26582293e-07, 1.24830601e-03],\n",
       "       [1.00060304e-09, 9.99953151e-01, 1.69706897e-08, 1.23280844e-10,\n",
       "        4.64687109e-05, 1.36226898e-11, 2.08011652e-09, 1.35317308e-07,\n",
       "        8.22360420e-08, 1.32497576e-07],\n",
       "       [1.96800231e-13, 3.53824998e-06, 2.58185357e-12, 8.76611783e-10,\n",
       "        9.58007753e-01, 1.01232774e-06, 2.68538039e-11, 8.84834662e-06,\n",
       "        4.77385311e-06, 4.19740900e-02],\n",
       "       [1.04074246e-07, 6.46764309e-11, 1.60997077e-10, 5.80196740e-07,\n",
       "        1.04454002e-05, 1.63722419e-07, 1.11694612e-10, 9.25756254e-08,\n",
       "        1.83310309e-08, 9.99988556e-01],\n",
       "       [4.90040205e-14, 2.68035212e-11, 4.17551382e-10, 8.02632683e-11,\n",
       "        2.16351626e-09, 9.88684714e-01, 1.12977363e-02, 4.37759889e-16,\n",
       "        1.11532836e-05, 6.39140444e-06],\n",
       "       [1.53706675e-15, 3.34258906e-13, 3.79041182e-16, 1.89227160e-13,\n",
       "        4.48499602e-04, 2.90935023e-15, 6.14496066e-17, 1.14311822e-08,\n",
       "        6.45479115e-10, 9.99551475e-01]], dtype=float32)"
      ]
     },
     "execution_count": 22,
     "metadata": {},
     "output_type": "execute_result"
    }
   ],
   "source": [
    "predictions"
   ]
  },
  {
   "cell_type": "code",
   "execution_count": 23,
   "metadata": {},
   "outputs": [],
   "source": [
    "# Load the model's saved weights.\n",
    "#model1= model.load_weights('model.h5')\n",
    "\n",
    "model1= keras.models.load_model('model.h5')\n"
   ]
  },
  {
   "cell_type": "code",
   "execution_count": 24,
   "metadata": {},
   "outputs": [
    {
     "name": "stdout",
     "output_type": "stream",
     "text": [
      "Model: \"sequential\"\n",
      "_________________________________________________________________\n",
      "Layer (type)                 Output Shape              Param #   \n",
      "=================================================================\n",
      "dense (Dense)                (None, 64)                50240     \n",
      "_________________________________________________________________\n",
      "dense_1 (Dense)              (None, 64)                4160      \n",
      "_________________________________________________________________\n",
      "dense_2 (Dense)              (None, 10)                650       \n",
      "=================================================================\n",
      "Total params: 55,050\n",
      "Trainable params: 55,050\n",
      "Non-trainable params: 0\n",
      "_________________________________________________________________\n"
     ]
    }
   ],
   "source": [
    "model1.summary()"
   ]
  },
  {
   "cell_type": "code",
   "execution_count": 25,
   "metadata": {},
   "outputs": [
    {
     "name": "stdout",
     "output_type": "stream",
     "text": [
      "[7 2 1 0 4 1 4 9 5 9 0 6 9 0 1 5 9 7 8 4]\n",
      "[7 2 1 0 4 1 4 9 5 9 0 6 9 0 1 5 9 7 3 4]\n"
     ]
    }
   ],
   "source": [
    "#@tf.autograph.experimental.do_not_convert\n",
    "# Predict on the first 5 test images.\n",
    "predictions = model1.predict(test_images[:20])\n",
    "\n",
    "# Print our model's predictions.\n",
    "print(np.argmax(predictions, axis=1)) # [7, 2, 1, 0, 4]\n",
    "\n",
    "# Check our predictions against the ground truths.\n",
    "print(test_labels[:20]) # [7, 2, 1, 0, 4]"
   ]
  },
  {
   "cell_type": "code",
   "execution_count": null,
   "metadata": {},
   "outputs": [],
   "source": []
  },
  {
   "cell_type": "code",
   "execution_count": null,
   "metadata": {},
   "outputs": [],
   "source": []
  },
  {
   "cell_type": "code",
   "execution_count": null,
   "metadata": {},
   "outputs": [],
   "source": []
  }
 ],
 "metadata": {
  "kernelspec": {
   "display_name": "Python 3",
   "language": "python",
   "name": "python3"
  },
  "language_info": {
   "codemirror_mode": {
    "name": "ipython",
    "version": 3
   },
   "file_extension": ".py",
   "mimetype": "text/x-python",
   "name": "python",
   "nbconvert_exporter": "python",
   "pygments_lexer": "ipython3",
   "version": "3.9.7"
  }
 },
 "nbformat": 4,
 "nbformat_minor": 2
}
