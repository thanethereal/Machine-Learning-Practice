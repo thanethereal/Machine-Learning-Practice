{
 "cells": [
  {
   "cell_type": "code",
   "execution_count": 1,
   "metadata": {},
   "outputs": [],
   "source": [
    "import pandas as pd\n",
    "import numpy as np\n",
    "import matplotlib.pyplot as plt\n"
   ]
  },
  {
   "cell_type": "code",
   "execution_count": 2,
   "metadata": {},
   "outputs": [],
   "source": [
    "def split (dataset, training_ratio):\n",
    "    n = len (dataset) # Size of dataset\n",
    "    r = int (training_ratio * n) # No. of training examples\n",
    "    np.random.shuffle (dataset) # Shuffling the dataset\n",
    "    return dataset[:r,:], dataset[r:,:]"
   ]
  },
  {
   "cell_type": "code",
   "execution_count": 3,
   "metadata": {},
   "outputs": [],
   "source": [
    "def train (train_data):\n",
    "    n = len (train_data) # Size of training dataset\n",
    "    # Split the data and flatten the numpy arrays\n",
    "    x, y = np.ravel (train_data[:,:1]), np.ravel (train_data[:,1:])\n",
    "    # Plot the training dataset\n",
    "    plt.scatter (x, y, color = \"blue\", s = 1, label = 'Train data')\n",
    "    # Calculate mean, variance and covariance\n",
    "    mean_x = np.sum(x) / n\n",
    "    mean_y = np.sum(y) / n\n",
    "    covariance_x_y = (1/n) * np.sum(x*y) - mean_x * mean_y \n",
    "    var_x = (1/n) * np.sum(x*x) - mean_x * mean_x \n",
    "    # y(bar) = a * x(bar) + b\n",
    "    a = covariance_x_y / var_x\n",
    "    b = mean_y - a * mean_x\n",
    "    return a, b"
   ]
  },
  {
   "cell_type": "code",
   "execution_count": 4,
   "metadata": {},
   "outputs": [],
   "source": [
    "def test (test_data, coefficients):\n",
    "    n = len (test_data) # Size of testing dataset\n",
    "    a, b = coefficients[0], coefficients[1]\n",
    "    # Split the data and flatten the numpy arrays\n",
    "    x, y = np.ravel (test_data[:,:1]), np.ravel (test_data[:,1:])\n",
    "    # Plot the testing dataset\n",
    "    plt.scatter (x, y, color = \"red\", s = 1, label = 'Test data')\n",
    "    # Display the test results\n",
    "    p = 10; # No. of decimal places\n",
    "    print (\"X\\t\\tY\\t\\tY(Predicted)\");\n",
    "    print (\"______________________________________________\");\n",
    "    for i in range (n):\n",
    "        y_pred = a * x[i] + b\n",
    "        print (str(round(x[i],p)) + \"\\t\" + str(round(y[i],p)) + \"\\t\" + str(round(y_pred,p)))\n",
    "    print (\"______________________________________________\");\n",
    "    "
   ]
  },
  {
   "cell_type": "code",
   "execution_count": 5,
   "metadata": {},
   "outputs": [],
   "source": [
    "def plot_regression_line (dataset, coefficients):\n",
    "    a, b = coefficients[0], coefficients[1]\n",
    "    # Split the data and flatten the numpy arrays\n",
    "    x, y = np.ravel (dataset[:,:1]), np.ravel (dataset[:,1:])\n",
    "    y_pred = a * x + b\n",
    "    # Plot the regression line\n",
    "    plt.plot (x, y_pred, color = \"green\")\n",
    "    plt.xlabel ('X')\n",
    "    plt.ylabel ('Y')\n",
    "    plt.legend (loc = 'lower right')\n",
    "    plt.title (\"Linear Regression Model\")\n",
    "    plt.savefig ('output_plot.png', dpi=400)"
   ]
  },
  {
   "cell_type": "code",
   "execution_count": 6,
   "metadata": {},
   "outputs": [],
   "source": [
    "def main ():\n",
    "    # Read the csv file\n",
    "    dataset = pd.read_csv ('Linear_Regression_Data_1D.csv').to_numpy()\n",
    "    # Split the data set\n",
    "    train_data, test_data = split (dataset, 0.8)\n",
    "    # Train the data\n",
    "    coefficients = train (train_data)\n",
    "    # Test the data\n",
    "    test (test_data, coefficients)\n",
    "    # Plot the data\n",
    "    plot_regression_line (dataset, coefficients)"
   ]
  },
  {
   "cell_type": "code",
   "execution_count": 7,
   "metadata": {},
   "outputs": [
    {
     "name": "stdout",
     "output_type": "stream",
     "text": [
      "X\t\tY\t\tY(Predicted)\n",
      "______________________________________________\n",
      "4.542750949\t10.78134696\t11.2513746937\n",
      "4.212960539\t11.72073369\t10.7567502519\n",
      "4.454896478\t11.56228129\t11.1196092834\n",
      "3.24576689\t8.85717517\t9.3061391843\n",
      "4.398007901\t11.0628879\t11.0342869703\n",
      "3.261902306\t9.524611137\t9.3303393154\n",
      "4.115108228\t9.903792378\t10.6099899362\n",
      "4.953583715\t11.14482404\t11.8675476368\n",
      "3.556443866\t10.09667452\t9.7720970205\n",
      "0.174646852\t4.910807819\t4.7000287931\n",
      "3.396788345\t8.81398755\t9.5326433537\n",
      "3.645495192\t9.731881487\t9.9056574912\n",
      "0.90143544\t6.332715308\t5.7900768622\n",
      "2.740977908\t9.244283787\t8.5490493453\n",
      "4.784062044\t12.36874232\t11.6132965751\n",
      "0.949496481\t5.364328739\t5.8621595088\n",
      "1.737519743\t7.802061052\t7.0440482304\n",
      "3.312284908\t9.257915027\t9.4059038728\n",
      "1.261653412\t6.204622691\t6.3303370029\n",
      "4.801051301\t10.78777518\t11.6387773092\n",
      "4.182390568\t10.67921449\t10.7109009659\n",
      "2.587238494\t9.308393261\t8.3184687416\n",
      "4.83208015\t11.39441439\t11.6853148272\n",
      "1.48720253\t6.166632876\t6.6686188426\n",
      "2.099414369\t7.874117333\t7.5868230412\n",
      "1.367759639\t5.844692096\t6.4894766617\n",
      "4.184582165\t9.812204421\t10.7141879548\n",
      "1.620674692\t6.778648815\t6.8688023277\n",
      "4.440246607\t10.75286069\t11.0976371943\n",
      "3.936654198\t10.87508329\t10.3423419928\n",
      "1.120886194\t7.078852674\t6.119212287\n",
      "3.5679546\t10.25709255\t9.7893609863\n",
      "2.530248857\t8.131728948\t8.2329948571\n",
      "4.331677481\t10.96845714\t10.934803644\n",
      "4.230912702\t11.11780005\t10.7836751664\n",
      "0.034009023\t5.108344188\t4.4890981367\n",
      "1.867760178\t7.426704648\t7.2393847245\n",
      "4.018862281\t10.77829803\t10.4656388684\n",
      "1.408518171\t6.077620965\t6.5506068993\n",
      "2.518134564\t8.256067768\t8.2148256647\n",
      "______________________________________________\n"
     ]
    },
    {
     "data": {
      "image/png": "[encoded data removed]",
      "text/plain": [
       "<Figure size 432x288 with 1 Axes>"
      ]
     },
     "metadata": {
      "needs_background": "light"
     },
     "output_type": "display_data"
    }
   ],
   "source": [
    "main()"
   ]
  }
 ],
 "metadata": {
  "interpreter": {
   "hash": "1457781d4561370494842d8c66d37eac197c7ba6b884fdfe0105c720dd143999"
  },
  "kernelspec": {
   "display_name": "Python 3.9.7 64-bit",
   "language": "python",
   "name": "python3"
  },
  "language_info": {
   "codemirror_mode": {
    "name": "ipython",
    "version": 3
   },
   "file_extension": ".py",
   "mimetype": "text/x-python",
   "name": "python",
   "nbconvert_exporter": "python",
   "pygments_lexer": "ipython3",
   "version": "3.9.7"
  },
  "orig_nbformat": 4
 },
 "nbformat": 4,
 "nbformat_minor": 2
}
