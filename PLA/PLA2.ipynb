{
 "cells": [
  {
   "cell_type": "code",
   "execution_count": 286,
   "metadata": {},
   "outputs": [],
   "source": [
    "# Import the libraries\n",
    "%matplotlib inline\n",
    "import matplotlib.pyplot as plt\n",
    "import numpy as np"
   ]
  },
  {
   "cell_type": "code",
   "execution_count": 287,
   "metadata": {},
   "outputs": [],
   "source": [
    "# Read training data from data_prob_01.txt and store in a numpy array called 'x'.\n",
    "# As 40 data points are present, 'x' will be a 40x2 array where each row is one data point.\n",
    "# Store the labels in 'y'. It will be 40 length numpy array.\n",
    "# Each data is two dimensional and labels are +1 for the positive class while -1\n",
    "# for the negative class\n",
    "fileName=\"C:/Users/BRAVO15/Desktop/Machine-Learning-Practice/PLA/data.txt\"\n",
    "with open(fileName) as file:\n",
    "    lines =  [line.split() for line in file ]   \n",
    "data = np.array(lines,dtype='float32')\n",
    "X = data[:,:2]\n",
    "y = data[:,-1]"
   ]
  },
  {
   "cell_type": "code",
   "execution_count": 288,
   "metadata": {},
   "outputs": [
    {
     "name": "stdout",
     "output_type": "stream",
     "text": [
      "1\n",
      "9.820500373840332\n",
      "-6.660999774932861\n",
      "2\n",
      "12.061000347137451\n",
      "-3.046499729156494\n",
      "3\n",
      "12.65600037574768\n",
      "3.393700122833252\n",
      "4\n",
      "10.65600037574768\n",
      "7.393700122833252\n"
     ]
    }
   ],
   "source": [
    "# Initialize weight\n",
    "w = np.array([0.0, 0.0]) #\n",
    "# while no examples are misclassified run the perceptron algorithm (refer to the slides for the algorithm)\n",
    "########################## write your code below ##############################################\n",
    "# Make a prediction with weights\n",
    "def predict(row, weights):\n",
    "    activation = 0.0\n",
    "    for i in range(len(row)-1):\n",
    "        activation += weights[i] * row[i]\n",
    "    return 1.0 if activation >= 0.0 else -1.0\n",
    "    \n",
    "# Estimate Perceptron weights using Perceptron Learning Algorithm   \n",
    "def train_weights(weights,train):\n",
    "    misclassification=1\n",
    "    while misclassification!=0:\n",
    "        misclassification= 40   # assuming initially all training examples are misclassified\n",
    "        i=0\n",
    "        a = 0\n",
    "        for row in train:\n",
    "            prediction = predict(row, weights)\n",
    "            if row[-1]!= prediction:\n",
    "                misclassification+=1  \n",
    "                a = a+1\n",
    "                print(a)              \n",
    "                for j in range(len(row)-1):\n",
    "                    #print(row[j])\n",
    "                    weights[j] = weights[j] + row[-1] * row[j]\n",
    "                    print(weights[j])\n",
    "            else:\n",
    "                misclassification-=1\n",
    "            i+=1\n",
    "    return weights\n",
    "\n",
    "# Calculate weights\n",
    "weights = train_weights(w,data)\n",
    "#print(\"trained weights : {}\".format(weights))\n",
    "i=0\n",
    "for row in data:\n",
    "    prediction = predict(row, weights)\n",
    "    #print(\"%d Expected=%d, Predicted=%d\" % (i,row[-1], prediction))\n",
    "    i+=1\n",
    "# Finally w contains the trained weights\n",
    "###############################################################################################"
   ]
  },
  {
   "cell_type": "code",
   "execution_count": 289,
   "metadata": {},
   "outputs": [
    {
     "data": {
      "text/plain": [
       "array([10.65600038,  7.39370012])"
      ]
     },
     "execution_count": 289,
     "metadata": {},
     "output_type": "execute_result"
    }
   ],
   "source": [
    "weights"
   ]
  },
  {
   "cell_type": "code",
   "execution_count": 290,
   "metadata": {},
   "outputs": [
    {
     "data": {
      "image/png": "[encoded data removed]",
      "text/plain": [
       "<Figure size 720x720 with 1 Axes>"
      ]
     },
     "metadata": {
      "needs_background": "light"
     },
     "output_type": "display_data"
    }
   ],
   "source": [
    "# weightplot\n",
    "epsilon=1e-18\n",
    "indexes_with_class1 = y==1\n",
    "plt.figure(figsize=(10,10))\n",
    "plt.scatter(X[indexes_with_class1][:,0],X[indexes_with_class1][:,1], color='r', marker='P')\n",
    "plt.scatter(X[~indexes_with_class1][:,0],X[~indexes_with_class1][:,1], color='g', marker='o')\n",
    "plt.grid()\n",
    "\n",
    "plt.xlim(-12,12)\n",
    "plt.ylim(-12,12)\n",
    "slope = (-weights[0])/(weights[1]) # to ensure no division by zero\n",
    "xx = np.linspace(-15, 15)\n",
    "yy = slope * xx\n",
    "plt.plot(xx,yy,color='k', linestyle='--', linewidth=2)\n",
    "plt.show()"
   ]
  },
  {
   "cell_type": "code",
   "execution_count": 291,
   "metadata": {},
   "outputs": [
    {
     "data": {
      "text/plain": [
       "-1.441227017422546"
      ]
     },
     "execution_count": 291,
     "metadata": {},
     "output_type": "execute_result"
    }
   ],
   "source": [
    "slope"
   ]
  }
 ],
 "metadata": {
  "interpreter": {
   "hash": "1457781d4561370494842d8c66d37eac197c7ba6b884fdfe0105c720dd143999"
  },
  "kernelspec": {
   "display_name": "Python 3.9.7 64-bit",
   "language": "python",
   "name": "python3"
  },
  "language_info": {
   "codemirror_mode": {
    "name": "ipython",
    "version": 3
   },
   "file_extension": ".py",
   "mimetype": "text/x-python",
   "name": "python",
   "nbconvert_exporter": "python",
   "pygments_lexer": "ipython3",
   "version": "3.9.7"
  },
  "orig_nbformat": 4
 },
 "nbformat": 4,
 "nbformat_minor": 2
}
